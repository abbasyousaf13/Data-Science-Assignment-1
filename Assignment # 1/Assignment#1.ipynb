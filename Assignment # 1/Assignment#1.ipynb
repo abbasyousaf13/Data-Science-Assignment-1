{
 "cells": [
  {
   "cell_type": "code",
   "execution_count": 1,
   "id": "2ad79fd6",
   "metadata": {},
   "outputs": [
    {
     "name": "stdout",
     "output_type": "stream",
     "text": [
      "Twinkle, twinkle, little star,\n",
      "\tHow I wonder what you are!\n",
      "\t\tUp above the world so high,\n",
      "\t\tLike a diamond in the sky.\n",
      "Twinkle, twinkle, little star,\n",
      "\tHow I wonder what you are\n"
     ]
    }
   ],
   "source": [
    "#Q:1 Python program to print poem \"Twinkle Twinkle Little Star\"\n",
    "print(\"Twinkle, twinkle, little star,\\n\\tHow I wonder what you are!\\n\\t\\tUp above the world so high,\\n\\t\\tLike a diamond in the sky.\\nTwinkle, twinkle, little star,\\n\\tHow I wonder what you are\")"
   ]
  },
  {
   "cell_type": "code",
   "execution_count": 5,
   "id": "0f1b2c6f",
   "metadata": {},
   "outputs": [
    {
     "name": "stdout",
     "output_type": "stream",
     "text": [
      "I am using Python version --  3.9.7\n"
     ]
    }
   ],
   "source": [
    "#Q:2 Python program to get Python version\n",
    "from platform import python_version\n",
    "\n",
    "print(\"I am using Python version -- \", python_version())"
   ]
  },
  {
   "cell_type": "code",
   "execution_count": 4,
   "id": "89dd534c",
   "metadata": {},
   "outputs": [
    {
     "name": "stdout",
     "output_type": "stream",
     "text": [
      "According to my laptop current time and date is --  2021-12-30 12:03:09.143565\n"
     ]
    }
   ],
   "source": [
    "#Q:3 Python program to display current time and date\n",
    "import datetime \n",
    "\n",
    "current_time = datetime.datetime.now()\n",
    "print (\"According to my laptop current time and date is -- \", current_time)"
   ]
  },
  {
   "cell_type": "code",
   "execution_count": 6,
   "id": "4891b87e",
   "metadata": {},
   "outputs": [
    {
     "name": "stdout",
     "output_type": "stream",
     "text": [
      "Accept the radius of a circle from the user : 8\n",
      "After computing the area of the circle with radius 8.0 is: 201.06192982974676\n"
     ]
    }
   ],
   "source": [
    "#Q:4 Python program which accepts radius of a circle and from the user and compute the area\n",
    "from math import pi\n",
    "\n",
    "r = float(input (\"Accept the radius of a circle from the user : \"))\n",
    "print (\"After computing the area of the circle with radius \" + str(r) + \" is: \" + str(pi * r**2))"
   ]
  },
  {
   "cell_type": "code",
   "execution_count": 7,
   "id": "e3a20daf",
   "metadata": {},
   "outputs": [
    {
     "name": "stdout",
     "output_type": "stream",
     "text": [
      "Please enter your first name : Abbas\n",
      "Please enter your last name : Yousaf\n",
      "Yousaf Abbas\n"
     ]
    }
   ],
   "source": [
    "#Q:5 Python program which accepts the user's first and last name and \n",
    "#print them in reverse order with a space between them\n",
    "first_name = input(\"Please enter your first name : \")\n",
    "last_name = input(\"Please enter your last name : \")\n",
    "print (last_name + \" \" + first_name)"
   ]
  },
  {
   "cell_type": "code",
   "execution_count": 8,
   "id": "50fc432a",
   "metadata": {},
   "outputs": [
    {
     "name": "stdout",
     "output_type": "stream",
     "text": [
      "Please enter first number for addition5\n",
      "Please enter second number for addition7\n",
      "12\n"
     ]
    }
   ],
   "source": [
    "#Q:6 Python program which takes two inputs from user and print them addition\n",
    "num_1 = int(input(\"Please enter first number for addition\"))\n",
    "num_2 = int(input(\"Please enter second number for addition\"))\n",
    "num_3 = num_1 + num_2\n",
    "print(num_3)"
   ]
  },
  {
   "cell_type": "code",
   "execution_count": null,
   "id": "1e3fc0bd",
   "metadata": {},
   "outputs": [],
   "source": []
  }
 ],
 "metadata": {
  "kernelspec": {
   "display_name": "Python 3 (ipykernel)",
   "language": "python",
   "name": "python3"
  },
  "language_info": {
   "codemirror_mode": {
    "name": "ipython",
    "version": 3
   },
   "file_extension": ".py",
   "mimetype": "text/x-python",
   "name": "python",
   "nbconvert_exporter": "python",
   "pygments_lexer": "ipython3",
   "version": "3.9.7"
  }
 },
 "nbformat": 4,
 "nbformat_minor": 5
}
